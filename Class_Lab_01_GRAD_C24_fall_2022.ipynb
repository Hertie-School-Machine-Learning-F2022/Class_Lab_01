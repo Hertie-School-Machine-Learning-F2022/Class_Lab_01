{
  "nbformat": 4,
  "nbformat_minor": 0,
  "metadata": {
    "colab": {
      "provenance": []
    },
    "kernelspec": {
      "name": "python3",
      "display_name": "Python 3"
    },
    "language_info": {
      "name": "python"
    }
  },
  "cells": [
    {
      "cell_type": "markdown",
      "source": [
        "# Lab 01 - GRAD-C24\n",
        "\n",
        "# Date: 09.09.2022\n",
        "\n",
        "## Author: Paulina Garcia Corral\n",
        "\n",
        "email: corral@hertie-school.org\n",
        "\n",
        "Notes:\n",
        "\n",
        "1. Extra cloud space for ML datasciencelab@hertie-school.org\n",
        "\n",
        "2. You can also audit the intro to python GRAD-E1326\n",
        "---\n",
        "\n"
      ],
      "metadata": {
        "id": "MxwKmz2zDM2M"
      }
    },
    {
      "cell_type": "markdown",
      "source": [
        "# We want to assess the coding level of the group. \n",
        "\n",
        "# To do this, please open this link and answer the quiz individually.\n",
        "\n",
        "\n",
        "\n",
        "\n",
        "\n",
        "1. What is the output of the code below?"
      ],
      "metadata": {
        "id": "nGSo5yGnDL3E"
      }
    },
    {
      "cell_type": "code",
      "source": [
        "str = \"machine_learning\"\n",
        "print(str[1:3])"
      ],
      "metadata": {
        "id": "FP7AaBv6EmYZ"
      },
      "execution_count": null,
      "outputs": []
    },
    {
      "cell_type": "markdown",
      "source": [
        "2. What is the output of the code below?"
      ],
      "metadata": {
        "id": "inlbJt-2HboY"
      }
    },
    {
      "cell_type": "code",
      "source": [
        "var = \"Hertie School\"\n",
        "print(var[::2])"
      ],
      "metadata": {
        "id": "_adeeyRIHZ-T"
      },
      "execution_count": null,
      "outputs": []
    },
    {
      "cell_type": "markdown",
      "source": [
        "3. What is the output of the code below?"
      ],
      "metadata": {
        "id": "FepKvynLXLic"
      }
    },
    {
      "cell_type": "code",
      "source": [
        "var1 = 1\n",
        "var2 = 2\n",
        "var3 = \"3\"\n",
        "\n",
        "print(var1 + var2 + var3)"
      ],
      "metadata": {
        "id": "1XMRjruTXQJu"
      },
      "execution_count": null,
      "outputs": []
    },
    {
      "cell_type": "markdown",
      "source": [
        "4. What is the output of the following code? "
      ],
      "metadata": {
        "id": "2rDmqqEIIKg_"
      }
    },
    {
      "cell_type": "code",
      "source": [
        "list_1 = [20, 40, 60, 80]\n",
        "list_2 = [20, 40, 60, 80]\n",
        "\n",
        "print(list_1 == list_2)\n",
        "print(list_1 is list_2)"
      ],
      "metadata": {
        "id": "sD-ytPDTIHFF"
      },
      "execution_count": null,
      "outputs": []
    },
    {
      "cell_type": "markdown",
      "source": [
        "5. Is a string inmmutable in Python?\n",
        "\n",
        "    Every time when we modify the string, Python will always create a new string and assign a new string to that variable."
      ],
      "metadata": {
        "id": "c4BXffr0LB7i"
      }
    },
    {
      "cell_type": "markdown",
      "source": [
        "6. What is the output of the following code?"
      ],
      "metadata": {
        "id": "2jyMkXIuI5je"
      }
    },
    {
      "cell_type": "code",
      "source": [
        "name_list = ['Max', 'Sophie', 'Karl', 'Anne']\n",
        "name_list.append('Moritz')\n",
        "print(name_list)"
      ],
      "metadata": {
        "id": "QPtd9o6pI9aF"
      },
      "execution_count": null,
      "outputs": []
    },
    {
      "cell_type": "markdown",
      "source": [
        "7. What is the output of the code below?"
      ],
      "metadata": {
        "id": "1qCqTQuNKVMN"
      }
    },
    {
      "cell_type": "code",
      "source": [
        "for i in range (1,20,2):\n",
        "  print(i)"
      ],
      "metadata": {
        "id": "xixfGrGTKar3"
      },
      "execution_count": null,
      "outputs": []
    },
    {
      "cell_type": "markdown",
      "source": [
        "8. According to the Python Orperators Precedence, in what order will this be executed?\n",
        "  \n",
        "  Addition\n",
        "\n",
        "  Parenthesis \n",
        "\n",
        "  Comparison\n",
        "\n",
        "  Exponent "
      ],
      "metadata": {
        "id": "DghI9xjcLOsT"
      }
    },
    {
      "cell_type": "markdown",
      "source": [
        "9. What is the output of the following code? "
      ],
      "metadata": {
        "id": "SWB_hmEuMHxG"
      }
    },
    {
      "cell_type": "code",
      "source": [
        "for i in range(1, 4):\n",
        "    if i == 2:\n",
        "      print(i)\n",
        "    else:\n",
        "      print(\"this is else block statement\")"
      ],
      "metadata": {
        "id": "xjFNgEDtMqyU"
      },
      "execution_count": null,
      "outputs": []
    },
    {
      "cell_type": "markdown",
      "source": [
        "10. What is the output of the code below?"
      ],
      "metadata": {
        "id": "5S8dZ8wML1oj"
      }
    },
    {
      "cell_type": "code",
      "source": [
        "def calculate (num1, num2):\n",
        "  res = num1 * num2\n",
        "  print(res)\n",
        "\n",
        "calculate(5, 6)"
      ],
      "metadata": {
        "id": "1qxZGLwgMNnR"
      },
      "execution_count": null,
      "outputs": []
    },
    {
      "cell_type": "markdown",
      "source": [
        "\n",
        "\n",
        "---\n",
        "\n",
        "# Now let's go over the questions together!\n"
      ],
      "metadata": {
        "id": "J4Fm-jJpS_xj"
      }
    },
    {
      "cell_type": "markdown",
      "source": [
        "1 & 2. Data types in python "
      ],
      "metadata": {
        "id": "hHVIv4utTdEr"
      }
    },
    {
      "cell_type": "code",
      "source": [
        "#Python data types\n",
        "\n",
        "#Integers\n",
        "a_int = 3\n",
        "another_int = 27\n",
        "\n",
        "\n",
        "#Floats\n",
        "3.14\n",
        "float_1 = 0.98\n",
        "\n",
        "print(type(a_int))\n",
        "\n",
        "#String\n",
        "a_string = 'hello world!!'\n",
        "print(a_string)\n",
        "b_string = \"Hertie School is the best!!\"\n",
        "c_string = \"They call me 'the best'\"\n",
        "print(c_string)\n",
        "\n",
        "\n",
        "#What does \"strings are inmutable\" mean?\n",
        "#You can't change a strings calue, only the reference to the string. \n",
        "a_string = \"good bye world!\"\n",
        "print(a_string)\n",
        "\n",
        "\n",
        "##Collection data types \n",
        "#List\n",
        "#Ordered and changeable, we use square brakets, exclusive to Python, items\n",
        "#need to be separeted with a coma. Elements in a list can be of different types.\n",
        "names = ['maria jose', 'fernanda', 'luke', 'alvaro', 'Justus', \n",
        "          'Fernando', 'Rodrigo', 'Carmen', 'Juan', 'Fabian',\n",
        "          'Oskar', 'Augusto', 'Jorge', 'Fabian']\n",
        "\n",
        "shirts = ['white', 'beige', 'green','brown', 'blue', 'white',\n",
        "          'blue', 'stripes', 'blue', 'beige', 'black', 'grey',\n",
        "          'purple', 'black']\n",
        "\n",
        "print(a_list)\n",
        "\n",
        "b_list = ['three', 3]\n",
        "print(b_list)\n",
        "\n",
        "people_shirts = [names, shirts]\n",
        "print(people_shirts)\n",
        "\n",
        "\n",
        "#Tuple\n",
        "#Tuples are ordered, inmutable and are writen with ( ) and separeated with comas\n",
        "#can have different types. \n",
        "names = ('maria jose', 'fernanda', 'luke', 'alvaro', 'Justus', \n",
        "          'Fernando', 'Rodrigo', 'Carmen', 'Juan', 'Fabian',\n",
        "          'Oskar', 'Augusto', 'Jorge', 'Fabian')\n",
        "\n",
        "\n",
        "\n",
        "#Dictionary\n",
        "#Unordered, changeable and indexed. Written with { } and have key value pairs \n",
        "\n",
        "a_dict = {'names': ['maria jose', 'fernanda', 'luke', 'alvaro', 'Justus', \n",
        "                    'Fernando', 'Rodrigo', 'Carmen', 'Juan', 'Fabian',\n",
        "                    'Oskar', 'Augusto', 'Jorge', 'Fabian'],\n",
        "          'shirts' : ['white', 'beige', 'green','brown', 'blue', 'white',\n",
        "                      'blue', 'stripes', 'blue', 'beige', 'black', 'grey',\n",
        "                      'purple', 'black']}\n",
        "\n",
        "#Why does this not work?\n",
        "var1 = 1 #This is an integer\n",
        "var2 = 2 #This is another integer\n",
        "var3 = \"3\" #This is a string\n",
        "\n",
        "#With a coma, we conncatenate variables in the same print function. \n",
        "print(var1 + var2, var3)\n",
        "print('My number is: ', var1)\n",
        "#Here, we are not conncatenating, we are adding two INT variables\n",
        "#and print the result\n",
        "\n",
        "\n",
        "\n",
        "#But, because var3 is not an int, it is not compativle, hence we get an error.\n",
        "print(var1 + var2 + var3)"
      ],
      "metadata": {
        "id": "dOQslE6JTlzQ",
        "colab": {
          "base_uri": "https://localhost:8080/"
        },
        "outputId": "d49959ef-0320-4bf8-8fad-34c3a8380069"
      },
      "execution_count": null,
      "outputs": [
        {
          "output_type": "stream",
          "name": "stdout",
          "text": [
            "<class 'int'>\n",
            "hello world!!\n",
            "They call me 'the best'\n",
            "good bye world!\n",
            "['maria jose', 'fernanda', 'luke', 'alvaro', 'Justus', 'Fernando', 'Rodrigo', 'Carmen', 'Juan', 'Fabian', 'Oskar', 'Augusto', 'Jorge', 'Fabian']\n",
            "['three', 3]\n",
            "[['maria jose', 'fernanda', 'luke', 'alvaro', 'Justus', 'Fernando', 'Rodrigo', 'Carmen', 'Juan', 'Fabian', 'Oskar', 'Augusto', 'Jorge', 'Fabian'], ['white', 'beige', 'green', 'brown', 'blue', 'white', 'blue', 'stripes', 'blue', 'beige', 'black', 'grey', 'purple', 'black']]\n",
            "3 3\n",
            "My number is:  1\n"
          ]
        }
      ]
    },
    {
      "cell_type": "markdown",
      "source": [],
      "metadata": {
        "id": "1jiiD0gq1n2F"
      }
    },
    {
      "cell_type": "markdown",
      "source": [
        "3. Setting variables and indexing"
      ],
      "metadata": {
        "id": "E3AAvJlaTWcC"
      }
    },
    {
      "cell_type": "code",
      "source": [
        "#Set a variable by naming the variable and using the assign operator\n",
        "strg = \"machine\"\n",
        "\n",
        "#You can update the value of the variable by using the same name of the variable\n",
        "#and a new value \n",
        "strg = \"machine_learning\"\n",
        "\n",
        "#Python starts counting from 0 (R starts counting from 1)\n",
        "len(strg)\n",
        "strg[1:6]\n",
        "\n",
        "#Indexing with [start:stop] says start from position 1\n",
        "# and end in the position before 3\n"
      ],
      "metadata": {
        "id": "UZSzGA3fTExn",
        "colab": {
          "base_uri": "https://localhost:8080/",
          "height": 35
        },
        "outputId": "f2143df7-5f5b-48e5-835c-d4dd9cb59143"
      },
      "execution_count": null,
      "outputs": [
        {
          "output_type": "execute_result",
          "data": {
            "text/plain": [
              "'achin'"
            ],
            "application/vnd.google.colaboratory.intrinsic+json": {
              "type": "string"
            }
          },
          "metadata": {},
          "execution_count": 96
        }
      ]
    },
    {
      "cell_type": "markdown",
      "source": [
        "4. More indexing"
      ],
      "metadata": {
        "id": "JinVCMoITbof"
      }
    },
    {
      "cell_type": "code",
      "source": [
        "#You can index the string in multiple ways\n",
        "\n",
        "#Using : inside square brakets, you are indexing between numbers\n",
        "#[start:stop]\n",
        "\n",
        "#H e r t i e\n",
        "#0 1 2 3 4 5\n",
        "\n",
        "\n",
        "#You can do reverse indexing using -1 in the stop\n",
        "\n",
        "#H e r t i e _ S c h o  o  l \n",
        "#0 1 2 3 4 5 6 7 8 9 10 11 12\n",
        "\n",
        "\n",
        "#You can even add the steps by calling [::] \n",
        "#[start:stop:step]\n",
        "var = \"Hertie School\"\n",
        "print(var[::-1])\n",
        "\n"
      ],
      "metadata": {
        "id": "e59DgoY1TkGZ",
        "colab": {
          "base_uri": "https://localhost:8080/"
        },
        "outputId": "5a90dc58-aaad-4231-eb15-32ca7f4e4c8e"
      },
      "execution_count": null,
      "outputs": [
        {
          "output_type": "stream",
          "name": "stdout",
          "text": [
            "loohcS eitreH\n"
          ]
        }
      ]
    },
    {
      "cell_type": "markdown",
      "source": [
        "5. Boolean operators"
      ],
      "metadata": {
        "id": "PEQeZsYuhhjD"
      }
    },
    {
      "cell_type": "code",
      "source": [
        "#We have two identical lists\n",
        "list_1 = [20, 40, 60, 80]\n",
        "list_2 = [20, 40, 60, 80]\n",
        "\n",
        "#And we ask two questions. First, We want to know if the content in list_1\n",
        "#is equal to the content in list_2.\n",
        "\n",
        "\n",
        "#And we know it is, hence 'True'\n",
        "\n",
        "#What other boolean operators do we have? \n",
        "\n",
        "print(50 > 40) #Greater than\n",
        "\n",
        "print(60 < 78) #Less than\n",
        "\n",
        "print(5 != 7) #Not equal to \n",
        "\n",
        "print(9 == 6) #Equal to\n",
        "\n",
        "print(6 <= 5) #Less than or equal to \n",
        "\n",
        "print(8 >= 9) #Greater than or equal to \n",
        "\n",
        "\n",
        "#Back to the example\n",
        "#However, even if the content is the same, they are two different variables,\n",
        "\n",
        "list_3 = list_1\n",
        "list_4 = list_3\n"
      ],
      "metadata": {
        "id": "hqiEPElITk2V",
        "colab": {
          "base_uri": "https://localhost:8080/"
        },
        "outputId": "0ea11b74-8191-455c-9658-bdb8feb42080"
      },
      "execution_count": null,
      "outputs": [
        {
          "output_type": "stream",
          "name": "stdout",
          "text": [
            "True\n",
            "True\n",
            "True\n",
            "False\n",
            "False\n",
            "False\n"
          ]
        },
        {
          "output_type": "execute_result",
          "data": {
            "text/plain": [
              "True"
            ]
          },
          "metadata": {},
          "execution_count": 110
        }
      ]
    },
    {
      "cell_type": "markdown",
      "source": [
        "6. Order of operations in Python \n",
        "\n",
        "  https://techvidvan.com/tutorials/python-operator-precedence/"
      ],
      "metadata": {
        "id": "QPBQu5BIX72a"
      }
    },
    {
      "cell_type": "code",
      "source": [
        "#Examples\n",
        "x = 5 + 2\n",
        "print(x)\n",
        "\n",
        "y = (5+2) * 2\n",
        "print(y)\n",
        "\n",
        "z = (5 + 2) * 2**2\n",
        "print(z)"
      ],
      "metadata": {
        "id": "LFcjE3pxa1_R",
        "colab": {
          "base_uri": "https://localhost:8080/"
        },
        "outputId": "4a57997e-1140-4f75-97c7-979c8264cc73"
      },
      "execution_count": null,
      "outputs": [
        {
          "output_type": "stream",
          "name": "stdout",
          "text": [
            "7\n",
            "14\n",
            "28\n"
          ]
        }
      ]
    },
    {
      "cell_type": "markdown",
      "source": [
        "6. Lists and how to modify them"
      ],
      "metadata": {
        "id": "wzQxFoF-TeoI"
      }
    },
    {
      "cell_type": "code",
      "source": [
        "#Lists can be easlisy modified! \n",
        "#Some functions are append(), clear(), count() or remove()\n",
        "\n",
        "#Let's take a look at this list:\n",
        "name_list = ['Max', 'Sophie', 'Karl', 'Anne']\n",
        "\n",
        "#name_list is a list with 4 strings of names.\n",
        "len(name_list)\n",
        "\n",
        "#Append is a function that will 'add' an element to a list, in the last position \n",
        "name_list.append('Mortiz')\n",
        "print(name_list)\n",
        "\n",
        "#We can also remove elements by index\n",
        "name_list.pop()\n",
        "print(name_list)\n",
        "\n",
        "#and by value\n",
        "name_list.remove('Max')\n",
        "print(name_list)\n",
        "\n",
        "#We could also order the list by alphabetical order using sort()\n",
        "name_list = ['Max', 'Sophie', 'Karl', 'Anne', 'Mortiz']\n",
        "name_list.sort(reverse = True)\n",
        "print(name_list)"
      ],
      "metadata": {
        "id": "JoxWWmiNTlXZ",
        "colab": {
          "base_uri": "https://localhost:8080/"
        },
        "outputId": "11c86c22-e119-4d3d-a3f3-2d71e7083b41"
      },
      "execution_count": null,
      "outputs": [
        {
          "output_type": "stream",
          "name": "stdout",
          "text": [
            "['Max', 'Sophie', 'Karl', 'Anne', 'Mortiz']\n",
            "['Sophie', 'Karl', 'Anne', 'Mortiz']\n",
            "['Sophie', 'Mortiz', 'Max', 'Karl', 'Anne']\n"
          ]
        }
      ]
    },
    {
      "cell_type": "markdown",
      "source": [
        "7. Ranges and loops"
      ],
      "metadata": {
        "id": "UXqlb6KYTfV2"
      }
    },
    {
      "cell_type": "code",
      "source": [
        "#What is a range?\n",
        "#Range() is a function that returns a sequence of numbers \n",
        "#In the form of (start, stop, step) Remeber the last is excluded so up to 20 (19)\n",
        "\n",
        "print(*range(1,30,2)) #the * is only there to unpack the output.\n",
        "\n",
        "#What is a loop? \n",
        "#Easy! We are asking python to go over every single item inside a collection\n",
        "#For example:\n",
        "groceries = ['apples', 'tomatos', 'potatos', 'onions', 'carrots'] #a list with\n",
        "                                                                  #grocery items\n",
        " \n",
        "new_list = []\n",
        "\n",
        "#To set up a loop, we call 'for an item in a list'. \n",
        "\n",
        "for i in groceries:\n",
        "  lst = []\n",
        "  n = i[0]\n",
        "  lst.append(n)\n",
        "\n",
        "print(lst)\n",
        "\n",
        "\n",
        "\n",
        "\n",
        "#Loops are greate because they allow us to modify collections of items one by \n",
        "#one in a systematic and repetitive way, until all the items of the list have\n",
        "# been passed.\n",
        "\n",
        "\n",
        "\n",
        "\n",
        "#Let's go back to the question. \n",
        "#First, what range is this creating then? \n",
        "#print(*range(1,20,1))\n",
        "\n",
        "#So what are we gonna get back when we print every item in this range?\n",
        "\n",
        "\n"
      ],
      "metadata": {
        "id": "aXv-LENXTmVo",
        "colab": {
          "base_uri": "https://localhost:8080/"
        },
        "outputId": "922ba316-6f6f-4346-ed5d-23dfe3e3ed2b"
      },
      "execution_count": null,
      "outputs": [
        {
          "output_type": "stream",
          "name": "stdout",
          "text": [
            "['c']\n"
          ]
        }
      ]
    },
    {
      "cell_type": "markdown",
      "source": [
        "9. More loops"
      ],
      "metadata": {
        "id": "e_tm98GHTgBb"
      }
    },
    {
      "cell_type": "code",
      "source": [
        "#We just saw how a simple for look works\n",
        "#Let's take a look at a if else!\n",
        "\n",
        "#In a simple for loop, we inspect every simple element of the collection\n",
        "#and act equally on every item.\n",
        "\n",
        "for i in range(1, 4):\n",
        "      print(i)\n",
        "\n",
        "#But what if we are looking for a particular type of item inside our collection of items?\n",
        "#What if we only want items that are less than a certain value to be modified? \n",
        "#Or items that are greater than? Or items that are equal to?\n",
        "\n",
        "\n",
        "\n",
        "#Knowing this, we can add extra instructions!\n",
        "#If the item that we want meets the requirement (item == 2), then do something to the item\n",
        "#But if it does not meet the requirement then execute an 'else'. \n",
        "\n"
      ],
      "metadata": {
        "id": "p6d_piTTTndq"
      },
      "execution_count": null,
      "outputs": []
    },
    {
      "cell_type": "markdown",
      "source": [
        "10. Functions"
      ],
      "metadata": {
        "id": "oIumWEFsTgm9"
      }
    },
    {
      "cell_type": "code",
      "source": [
        "#Finally, we can take a look at functions. In this ML class functions are\n",
        "#our best friends!! \n",
        "\n",
        "#In Python, a function is a group of related statements that performs\n",
        "# a specific task. Functions help break our program into smaller and modular\n",
        "# chunks. As our program grows larger and larger, functions make it more \n",
        "# organized and manageable. Furthermore, it avoids repetition and makes \n",
        "# the code reusable.\n",
        "\n",
        "#Because this is not a programming class, we will only talk about the most\n",
        "#important parts. \n",
        "\n",
        "#First, although we can create our own functions for our own work, what makes \n",
        "#Python so amazing is the number of libraries available, all with built in \n",
        "#functions with very specific uses. This allows us to save time, and avoid having\n",
        "#to program everything from scrath. \n",
        "\n",
        "#Scikit learn (ML library) is the most used and popular ML python library, and\n",
        "#we will be implementing most of the models from them as functions. \n",
        "\n",
        "#This is what setting up a function looks like (6 lines)\n",
        "def calculate (num1, num2):\n",
        "  \"\"\"\n",
        "  this function multiplies two numbers\n",
        "  \"\"\"\n",
        "  result = num1 * num2\n",
        "  print(result)\n",
        "\n",
        "\n",
        "\n",
        "#This is how it is implemented! (1 line)\n",
        "calculate(5, 6)\n",
        "\n",
        "#Each function takes a certain number of arguments it need to execute it self\n",
        "#calculate(5) # \"TypeError: calculate() missing 1 required positional argument: 'num2'\"\n",
        "\n",
        "#And can take any value as long as it is the correct data type specified in the function\n",
        "#calculate('seven', 'two') # <-  \"TypeError: can't multiply sequence by non-int of type 'str'\"\n"
      ],
      "metadata": {
        "id": "IKR4SGOYTm5-"
      },
      "execution_count": null,
      "outputs": []
    }
  ]
}
